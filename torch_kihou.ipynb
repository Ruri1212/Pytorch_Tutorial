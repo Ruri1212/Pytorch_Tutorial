{
 "cells": [
  {
   "cell_type": "code",
   "execution_count": 1,
   "metadata": {},
   "outputs": [
    {
     "name": "stdout",
     "output_type": "stream",
     "text": [
      "tensor([[0, 1, 1],\n",
      "        [1, 1, 0]])\n",
      "[0, 0]\n",
      "tensor([[0, 0, 0],\n",
      "        [1, 1, 0]])\n",
      "[[0, 0, 0], [1, 1, 0]]\n",
      "tensor([[2, 1],\n",
      "        [2, 1]])\n",
      "[[2, 1], [2, 1]]\n",
      "\n",
      "torch.return_types.max(\n",
      "values=tensor([[ 2,  3,  4],\n",
      "        [23, 52,  6]]),\n",
      "indices=tensor([[0, 0, 0],\n",
      "        [1, 1, 0]]))\n",
      "\n",
      "tensor([[1., 0., 0., 0., 0.],\n",
      "        [0., 1., 0., 0., 0.],\n",
      "        [0., 0., 1., 0., 0.],\n",
      "        [0., 0., 0., 1., 0.],\n",
      "        [0., 0., 0., 0., 1.]], requires_grad=True)\n",
      "tensor([[4., 1., 1., 1., 1.],\n",
      "        [1., 4., 1., 1., 1.],\n",
      "        [1., 1., 4., 1., 1.],\n",
      "        [1., 1., 1., 4., 1.],\n",
      "        [1., 1., 1., 1., 4.]], grad_fn=<PowBackward0>)\n"
     ]
    }
   ],
   "source": [
    "import torch\n",
    "\n",
    "\n",
    "### 各次元における最大値\n",
    "a = torch.tensor([[[2,3,4],[2,3,3]],[[1,4,6],[23,52,2]]])\n",
    "## argmax\n",
    "print(a.argmax(0))\n",
    "print([0,0])\n",
    "print(a.argmax(1))\n",
    "print([[0,0,0],[1,1,0]])\n",
    "print(a.argmax(2))\n",
    "print([[2,1],[2,1]])\n",
    "print()\n",
    "\n",
    "### torch.max\n",
    "print(torch.max(a,1))\n",
    "\n",
    "\n",
    "\n",
    "###　単位行列を作成\n",
    "print(\"torch.eye\")\n",
    "inp = torch.eye(5,requires_grad=True)\n",
    "print(inp)\n",
    "\n",
    "\n",
    "### tensorの全要素のn乗を計算\n",
    "out = (inp+1).pow(2)\n",
    "print(out)\n"
   ]
  },
  {
   "cell_type": "code",
   "execution_count": 5,
   "metadata": {},
   "outputs": [
    {
     "name": "stdout",
     "output_type": "stream",
     "text": [
      "tensor([[0, 1, 2],\n",
      "        [3, 4, 5],\n",
      "        [6, 7, 8]])\n",
      "torch.return_types.topk(\n",
      "values=tensor([[2, 1],\n",
      "        [5, 4],\n",
      "        [8, 7]]),\n",
      "indices=tensor([[2, 1],\n",
      "        [2, 1],\n",
      "        [2, 1]]))\n"
     ]
    }
   ],
   "source": [
    "b = torch.arange(9).reshape(3,3)\n",
    "print(b)\n",
    "## topk(n)nはどこまでの最大値indexを取るか\n",
    "print(b.topk(2))"
   ]
  }
 ],
 "metadata": {
  "kernelspec": {
   "display_name": "deeplearning",
   "language": "python",
   "name": "python3"
  },
  "language_info": {
   "codemirror_mode": {
    "name": "ipython",
    "version": 3
   },
   "file_extension": ".py",
   "mimetype": "text/x-python",
   "name": "python",
   "nbconvert_exporter": "python",
   "pygments_lexer": "ipython3",
   "version": "3.10.9"
  }
 },
 "nbformat": 4,
 "nbformat_minor": 2
}
