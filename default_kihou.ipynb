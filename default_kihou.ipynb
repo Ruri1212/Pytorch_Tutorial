{
 "cells": [
  {
   "cell_type": "code",
   "execution_count": 3,
   "metadata": {},
   "outputs": [
    {
     "name": "stdout",
     "output_type": "stream",
     "text": [
      "2\n",
      "4\n",
      "[2, 4]\n"
     ]
    }
   ],
   "source": [
    "import matplotlib.pyplot as plt\n",
    "import numpy as np\n",
    "\n",
    "# fig, axs = plt.subplots(2, 3, figsize=(10, 5))\n",
    "# print(fig,axs)\n"
   ]
  },
  {
   "cell_type": "code",
   "execution_count": 4,
   "metadata": {},
   "outputs": [
    {
     "name": "stdout",
     "output_type": "stream",
     "text": [
      "2\n",
      "4\n",
      "[2, 4]\n",
      "ad 1\n",
      "uta 2\n",
      "9\n",
      "1\n",
      "2\n",
      "3\n",
      "4\n"
     ]
    }
   ],
   "source": [
    "## numpyとリストの列方向の値の取得方法\n",
    "l = [[1,2],[3,4]]\n",
    "for row in l:\n",
    "    print(row[1])\n",
    "l_np = np.array(l)\n",
    "print(list(l_np[:,1]))\n",
    "\n",
    "## zip関数\n",
    "word = [\"ad\",\"uta\"]\n",
    "num = [1,2]\n",
    "for w,n in zip(word,num):\n",
    "    print(w,n)\n",
    "\n",
    "\n",
    "### lambeda関数\n",
    "    y = lambda x: x**2\n",
    "print(y(3))\n",
    "\n",
    "## nextとイテレータ\n",
    "li = [1,2,3,4]\n",
    "it = iter(li)\n",
    "while True:\n",
    "    try:\n",
    "        print(next(it))\n",
    "    except StopIteration:\n",
    "        break"
   ]
  },
  {
   "cell_type": "code",
   "execution_count": null,
   "metadata": {},
   "outputs": [],
   "source": []
  }
 ],
 "metadata": {
  "kernelspec": {
   "display_name": "deeplearning",
   "language": "python",
   "name": "python3"
  },
  "language_info": {
   "codemirror_mode": {
    "name": "ipython",
    "version": 3
   },
   "file_extension": ".py",
   "mimetype": "text/x-python",
   "name": "python",
   "nbconvert_exporter": "python",
   "pygments_lexer": "ipython3",
   "version": "3.10.9"
  }
 },
 "nbformat": 4,
 "nbformat_minor": 2
}
